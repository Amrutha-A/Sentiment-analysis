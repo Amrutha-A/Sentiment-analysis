{
 "cells": [
  {
   "attachments": {},
   "cell_type": "markdown",
   "id": "2c22d25f",
   "metadata": {
    "id": "KppRrzQ7s-Gb",
    "papermill": {
     "duration": 0.01927,
     "end_time": "2022-11-22T23:30:33.021787",
     "exception": false,
     "start_time": "2022-11-22T23:30:33.002517",
     "status": "completed"
    },
    "tags": []
   },
   "source": [
    "## **Problem Statement**\n",
    "\n",
    "**Objective**\n",
    "\n",
    "You are given a data of US Airline tweets and their sentiment. The task is to do sentiment analysis about the problems of each major U.S. airline. Twitter data was scraped from February of 2015 and contributors were asked to first classify positive, negative, and neutral tweets, followed by categorizing negative reasons (such as \"late flight\" or \"rude service\")."
   ]
  },
  {
   "cell_type": "code",
   "execution_count": 1,
   "id": "51ab7d8d",
   "metadata": {
    "execution": {
     "iopub.execute_input": "2022-11-22T23:30:33.061148Z",
     "iopub.status.busy": "2022-11-22T23:30:33.060624Z",
     "iopub.status.idle": "2022-11-22T23:30:35.375567Z",
     "shell.execute_reply": "2022-11-22T23:30:35.374421Z"
    },
    "id": "hBSeD3pqrOYL",
    "papermill": {
     "duration": 2.337203,
     "end_time": "2022-11-22T23:30:35.378549",
     "exception": false,
     "start_time": "2022-11-22T23:30:33.041346",
     "status": "completed"
    },
    "tags": []
   },
   "outputs": [],
   "source": [
    "#importing req. Lib.\n",
    "import pandas as pd\n",
    "import numpy as np\n",
    "import seaborn as sns\n",
    "import matplotlib.pyplot as plt\n",
    "from sklearn.model_selection import train_test_split\n",
    "from sklearn.tree import DecisionTreeClassifier\n",
    "from sklearn.ensemble import RandomForestClassifier\n",
    "from sklearn.metrics import accuracy_score,confusion_matrix,classification_report"
   ]
  },
  {
   "cell_type": "code",
   "execution_count": 2,
   "id": "179f0c14",
   "metadata": {
    "execution": {
     "iopub.execute_input": "2022-11-22T23:30:35.415109Z",
     "iopub.status.busy": "2022-11-22T23:30:35.414556Z",
     "iopub.status.idle": "2022-11-22T23:30:35.600470Z",
     "shell.execute_reply": "2022-11-22T23:30:35.599436Z"
    },
    "id": "wbFyZ_0ktf2_",
    "papermill": {
     "duration": 0.207411,
     "end_time": "2022-11-22T23:30:35.603323",
     "exception": false,
     "start_time": "2022-11-22T23:30:35.395912",
     "status": "completed"
    },
    "tags": []
   },
   "outputs": [],
   "source": [
    "#load our data set\n",
    "data = pd.read_csv(\"D:\\AI ML Python\\projects\\Sentiment analysis\\Tweets.csv\")"
   ]
  },
  {
   "cell_type": "code",
   "execution_count": 3,
   "id": "5b9b638b",
   "metadata": {
    "execution": {
     "iopub.execute_input": "2022-11-22T23:30:35.639712Z",
     "iopub.status.busy": "2022-11-22T23:30:35.639071Z",
     "iopub.status.idle": "2022-11-22T23:30:35.648300Z",
     "shell.execute_reply": "2022-11-22T23:30:35.646993Z"
    },
    "id": "41FYBCaS_YzV",
    "outputId": "27cccad5-a6dc-4b27-ee78-f41a86b89ba4",
    "papermill": {
     "duration": 0.03085,
     "end_time": "2022-11-22T23:30:35.651420",
     "exception": false,
     "start_time": "2022-11-22T23:30:35.620570",
     "status": "completed"
    },
    "tags": []
   },
   "outputs": [
    {
     "data": {
      "text/plain": [
       "(14640, 15)"
      ]
     },
     "execution_count": 3,
     "metadata": {},
     "output_type": "execute_result"
    }
   ],
   "source": [
    "data.shape"
   ]
  },
  {
   "cell_type": "code",
   "execution_count": 4,
   "id": "835c4b17",
   "metadata": {
    "execution": {
     "iopub.execute_input": "2022-11-22T23:30:35.689488Z",
     "iopub.status.busy": "2022-11-22T23:30:35.689069Z",
     "iopub.status.idle": "2022-11-22T23:30:35.716089Z",
     "shell.execute_reply": "2022-11-22T23:30:35.714877Z"
    },
    "id": "bzcg27aitx5y",
    "outputId": "8416e314-0b3e-489c-ee82-ee2ff827a1eb",
    "papermill": {
     "duration": 0.048931,
     "end_time": "2022-11-22T23:30:35.718501",
     "exception": false,
     "start_time": "2022-11-22T23:30:35.669570",
     "status": "completed"
    },
    "tags": []
   },
   "outputs": [
    {
     "name": "stdout",
     "output_type": "stream",
     "text": [
      "             tweet_id airline_sentiment  airline_sentiment_confidence  \\\n",
      "0  570306133677760513           neutral                        1.0000   \n",
      "1  570301130888122368          positive                        0.3486   \n",
      "2  570301083672813571           neutral                        0.6837   \n",
      "3  570301031407624196          negative                        1.0000   \n",
      "4  570300817074462722          negative                        1.0000   \n",
      "\n",
      "  negativereason  negativereason_confidence         airline  \\\n",
      "0            NaN                        NaN  Virgin America   \n",
      "1            NaN                     0.0000  Virgin America   \n",
      "2            NaN                        NaN  Virgin America   \n",
      "3     Bad Flight                     0.7033  Virgin America   \n",
      "4     Can't Tell                     1.0000  Virgin America   \n",
      "\n",
      "  airline_sentiment_gold        name negativereason_gold  retweet_count  \\\n",
      "0                    NaN     cairdin                 NaN              0   \n",
      "1                    NaN    jnardino                 NaN              0   \n",
      "2                    NaN  yvonnalynn                 NaN              0   \n",
      "3                    NaN    jnardino                 NaN              0   \n",
      "4                    NaN    jnardino                 NaN              0   \n",
      "\n",
      "                                                text tweet_coord  \\\n",
      "0                @VirginAmerica What @dhepburn said.         NaN   \n",
      "1  @VirginAmerica plus you've added commercials t...         NaN   \n",
      "2  @VirginAmerica I didn't today... Must mean I n...         NaN   \n",
      "3  @VirginAmerica it's really aggressive to blast...         NaN   \n",
      "4  @VirginAmerica and it's a really big bad thing...         NaN   \n",
      "\n",
      "               tweet_created tweet_location               user_timezone  \n",
      "0  2015-02-24 11:35:52 -0800            NaN  Eastern Time (US & Canada)  \n",
      "1  2015-02-24 11:15:59 -0800            NaN  Pacific Time (US & Canada)  \n",
      "2  2015-02-24 11:15:48 -0800      Lets Play  Central Time (US & Canada)  \n",
      "3  2015-02-24 11:15:36 -0800            NaN  Pacific Time (US & Canada)  \n",
      "4  2015-02-24 11:14:45 -0800            NaN  Pacific Time (US & Canada)  \n"
     ]
    }
   ],
   "source": [
    "#looking into our data\n",
    "print(data.head())"
   ]
  },
  {
   "cell_type": "code",
   "execution_count": 5,
   "id": "019d5bb5",
   "metadata": {
    "execution": {
     "iopub.execute_input": "2022-11-22T23:30:35.755681Z",
     "iopub.status.busy": "2022-11-22T23:30:35.754945Z",
     "iopub.status.idle": "2022-11-22T23:30:35.775304Z",
     "shell.execute_reply": "2022-11-22T23:30:35.773995Z"
    },
    "id": "JJqtEe-0tzy3",
    "outputId": "dd1161c9-a3c8-442b-e953-2a9315b3c804",
    "papermill": {
     "duration": 0.043244,
     "end_time": "2022-11-22T23:30:35.779214",
     "exception": false,
     "start_time": "2022-11-22T23:30:35.735970",
     "status": "completed"
    },
    "tags": []
   },
   "outputs": [
    {
     "data": {
      "text/html": [
       "<div>\n",
       "<style scoped>\n",
       "    .dataframe tbody tr th:only-of-type {\n",
       "        vertical-align: middle;\n",
       "    }\n",
       "\n",
       "    .dataframe tbody tr th {\n",
       "        vertical-align: top;\n",
       "    }\n",
       "\n",
       "    .dataframe thead th {\n",
       "        text-align: right;\n",
       "    }\n",
       "</style>\n",
       "<table border=\"1\" class=\"dataframe\">\n",
       "  <thead>\n",
       "    <tr style=\"text-align: right;\">\n",
       "      <th></th>\n",
       "      <th>tweet_id</th>\n",
       "      <th>airline_sentiment</th>\n",
       "      <th>airline_sentiment_confidence</th>\n",
       "      <th>negativereason</th>\n",
       "      <th>negativereason_confidence</th>\n",
       "      <th>airline</th>\n",
       "      <th>airline_sentiment_gold</th>\n",
       "      <th>name</th>\n",
       "      <th>negativereason_gold</th>\n",
       "      <th>retweet_count</th>\n",
       "      <th>text</th>\n",
       "      <th>tweet_coord</th>\n",
       "      <th>tweet_created</th>\n",
       "      <th>tweet_location</th>\n",
       "      <th>user_timezone</th>\n",
       "    </tr>\n",
       "  </thead>\n",
       "  <tbody>\n",
       "    <tr>\n",
       "      <th>14635</th>\n",
       "      <td>569587686496825344</td>\n",
       "      <td>positive</td>\n",
       "      <td>0.3487</td>\n",
       "      <td>NaN</td>\n",
       "      <td>0.0000</td>\n",
       "      <td>American</td>\n",
       "      <td>NaN</td>\n",
       "      <td>KristenReenders</td>\n",
       "      <td>NaN</td>\n",
       "      <td>0</td>\n",
       "      <td>@AmericanAir thank you we got on a different f...</td>\n",
       "      <td>NaN</td>\n",
       "      <td>2015-02-22 12:01:01 -0800</td>\n",
       "      <td>NaN</td>\n",
       "      <td>NaN</td>\n",
       "    </tr>\n",
       "    <tr>\n",
       "      <th>14636</th>\n",
       "      <td>569587371693355008</td>\n",
       "      <td>negative</td>\n",
       "      <td>1.0000</td>\n",
       "      <td>Customer Service Issue</td>\n",
       "      <td>1.0000</td>\n",
       "      <td>American</td>\n",
       "      <td>NaN</td>\n",
       "      <td>itsropes</td>\n",
       "      <td>NaN</td>\n",
       "      <td>0</td>\n",
       "      <td>@AmericanAir leaving over 20 minutes Late Flig...</td>\n",
       "      <td>NaN</td>\n",
       "      <td>2015-02-22 11:59:46 -0800</td>\n",
       "      <td>Texas</td>\n",
       "      <td>NaN</td>\n",
       "    </tr>\n",
       "    <tr>\n",
       "      <th>14637</th>\n",
       "      <td>569587242672398336</td>\n",
       "      <td>neutral</td>\n",
       "      <td>1.0000</td>\n",
       "      <td>NaN</td>\n",
       "      <td>NaN</td>\n",
       "      <td>American</td>\n",
       "      <td>NaN</td>\n",
       "      <td>sanyabun</td>\n",
       "      <td>NaN</td>\n",
       "      <td>0</td>\n",
       "      <td>@AmericanAir Please bring American Airlines to...</td>\n",
       "      <td>NaN</td>\n",
       "      <td>2015-02-22 11:59:15 -0800</td>\n",
       "      <td>Nigeria,lagos</td>\n",
       "      <td>NaN</td>\n",
       "    </tr>\n",
       "    <tr>\n",
       "      <th>14638</th>\n",
       "      <td>569587188687634433</td>\n",
       "      <td>negative</td>\n",
       "      <td>1.0000</td>\n",
       "      <td>Customer Service Issue</td>\n",
       "      <td>0.6659</td>\n",
       "      <td>American</td>\n",
       "      <td>NaN</td>\n",
       "      <td>SraJackson</td>\n",
       "      <td>NaN</td>\n",
       "      <td>0</td>\n",
       "      <td>@AmericanAir you have my money, you change my ...</td>\n",
       "      <td>NaN</td>\n",
       "      <td>2015-02-22 11:59:02 -0800</td>\n",
       "      <td>New Jersey</td>\n",
       "      <td>Eastern Time (US &amp; Canada)</td>\n",
       "    </tr>\n",
       "    <tr>\n",
       "      <th>14639</th>\n",
       "      <td>569587140490866689</td>\n",
       "      <td>neutral</td>\n",
       "      <td>0.6771</td>\n",
       "      <td>NaN</td>\n",
       "      <td>0.0000</td>\n",
       "      <td>American</td>\n",
       "      <td>NaN</td>\n",
       "      <td>daviddtwu</td>\n",
       "      <td>NaN</td>\n",
       "      <td>0</td>\n",
       "      <td>@AmericanAir we have 8 ppl so we need 2 know h...</td>\n",
       "      <td>NaN</td>\n",
       "      <td>2015-02-22 11:58:51 -0800</td>\n",
       "      <td>dallas, TX</td>\n",
       "      <td>NaN</td>\n",
       "    </tr>\n",
       "  </tbody>\n",
       "</table>\n",
       "</div>"
      ],
      "text/plain": [
       "                 tweet_id airline_sentiment  airline_sentiment_confidence  \\\n",
       "14635  569587686496825344          positive                        0.3487   \n",
       "14636  569587371693355008          negative                        1.0000   \n",
       "14637  569587242672398336           neutral                        1.0000   \n",
       "14638  569587188687634433          negative                        1.0000   \n",
       "14639  569587140490866689           neutral                        0.6771   \n",
       "\n",
       "               negativereason  negativereason_confidence   airline  \\\n",
       "14635                     NaN                     0.0000  American   \n",
       "14636  Customer Service Issue                     1.0000  American   \n",
       "14637                     NaN                        NaN  American   \n",
       "14638  Customer Service Issue                     0.6659  American   \n",
       "14639                     NaN                     0.0000  American   \n",
       "\n",
       "      airline_sentiment_gold             name negativereason_gold  \\\n",
       "14635                    NaN  KristenReenders                 NaN   \n",
       "14636                    NaN         itsropes                 NaN   \n",
       "14637                    NaN         sanyabun                 NaN   \n",
       "14638                    NaN       SraJackson                 NaN   \n",
       "14639                    NaN        daviddtwu                 NaN   \n",
       "\n",
       "       retweet_count                                               text  \\\n",
       "14635              0  @AmericanAir thank you we got on a different f...   \n",
       "14636              0  @AmericanAir leaving over 20 minutes Late Flig...   \n",
       "14637              0  @AmericanAir Please bring American Airlines to...   \n",
       "14638              0  @AmericanAir you have my money, you change my ...   \n",
       "14639              0  @AmericanAir we have 8 ppl so we need 2 know h...   \n",
       "\n",
       "      tweet_coord              tweet_created tweet_location  \\\n",
       "14635         NaN  2015-02-22 12:01:01 -0800            NaN   \n",
       "14636         NaN  2015-02-22 11:59:46 -0800          Texas   \n",
       "14637         NaN  2015-02-22 11:59:15 -0800  Nigeria,lagos   \n",
       "14638         NaN  2015-02-22 11:59:02 -0800     New Jersey   \n",
       "14639         NaN  2015-02-22 11:58:51 -0800     dallas, TX   \n",
       "\n",
       "                    user_timezone  \n",
       "14635                         NaN  \n",
       "14636                         NaN  \n",
       "14637                         NaN  \n",
       "14638  Eastern Time (US & Canada)  \n",
       "14639                         NaN  "
      ]
     },
     "execution_count": 5,
     "metadata": {},
     "output_type": "execute_result"
    }
   ],
   "source": [
    "#checking last 5 entries\n",
    "data.tail()"
   ]
  },
  {
   "cell_type": "code",
   "execution_count": 6,
   "id": "a9cd1d9b",
   "metadata": {
    "execution": {
     "iopub.execute_input": "2022-11-22T23:30:35.818972Z",
     "iopub.status.busy": "2022-11-22T23:30:35.817857Z",
     "iopub.status.idle": "2022-11-22T23:30:35.824845Z",
     "shell.execute_reply": "2022-11-22T23:30:35.823627Z"
    },
    "id": "t7YWhWR_uDlk",
    "outputId": "1ea9587a-e79a-4926-921e-9010789e2529",
    "papermill": {
     "duration": 0.028852,
     "end_time": "2022-11-22T23:30:35.827365",
     "exception": false,
     "start_time": "2022-11-22T23:30:35.798513",
     "status": "completed"
    },
    "tags": []
   },
   "outputs": [
    {
     "data": {
      "text/plain": [
       "Index(['tweet_id', 'airline_sentiment', 'airline_sentiment_confidence',\n",
       "       'negativereason', 'negativereason_confidence', 'airline',\n",
       "       'airline_sentiment_gold', 'name', 'negativereason_gold',\n",
       "       'retweet_count', 'text', 'tweet_coord', 'tweet_created',\n",
       "       'tweet_location', 'user_timezone'],\n",
       "      dtype='object')"
      ]
     },
     "execution_count": 6,
     "metadata": {},
     "output_type": "execute_result"
    }
   ],
   "source": [
    "#checking columns in our data\n",
    "data.columns"
   ]
  },
  {
   "cell_type": "code",
   "execution_count": 7,
   "id": "17577881",
   "metadata": {
    "execution": {
     "iopub.execute_input": "2022-11-22T23:30:35.866316Z",
     "iopub.status.busy": "2022-11-22T23:30:35.865482Z",
     "iopub.status.idle": "2022-11-22T23:30:35.900336Z",
     "shell.execute_reply": "2022-11-22T23:30:35.898788Z"
    },
    "id": "K3IhqOUhup7A",
    "outputId": "10f4658b-0934-4706-b021-9355b3194464",
    "papermill": {
     "duration": 0.057504,
     "end_time": "2022-11-22T23:30:35.903030",
     "exception": false,
     "start_time": "2022-11-22T23:30:35.845526",
     "status": "completed"
    },
    "tags": []
   },
   "outputs": [
    {
     "name": "stdout",
     "output_type": "stream",
     "text": [
      "<class 'pandas.core.frame.DataFrame'>\n",
      "RangeIndex: 14640 entries, 0 to 14639\n",
      "Data columns (total 15 columns):\n",
      " #   Column                        Non-Null Count  Dtype  \n",
      "---  ------                        --------------  -----  \n",
      " 0   tweet_id                      14640 non-null  int64  \n",
      " 1   airline_sentiment             14640 non-null  object \n",
      " 2   airline_sentiment_confidence  14640 non-null  float64\n",
      " 3   negativereason                9178 non-null   object \n",
      " 4   negativereason_confidence     10522 non-null  float64\n",
      " 5   airline                       14640 non-null  object \n",
      " 6   airline_sentiment_gold        40 non-null     object \n",
      " 7   name                          14640 non-null  object \n",
      " 8   negativereason_gold           32 non-null     object \n",
      " 9   retweet_count                 14640 non-null  int64  \n",
      " 10  text                          14640 non-null  object \n",
      " 11  tweet_coord                   1019 non-null   object \n",
      " 12  tweet_created                 14640 non-null  object \n",
      " 13  tweet_location                9907 non-null   object \n",
      " 14  user_timezone                 9820 non-null   object \n",
      "dtypes: float64(2), int64(2), object(11)\n",
      "memory usage: 1.7+ MB\n"
     ]
    }
   ],
   "source": [
    "#checking info our data\n",
    "data.info()"
   ]
  },
  {
   "cell_type": "code",
   "execution_count": 8,
   "id": "a0919fdc",
   "metadata": {
    "execution": {
     "iopub.execute_input": "2022-11-22T23:30:35.941261Z",
     "iopub.status.busy": "2022-11-22T23:30:35.940852Z",
     "iopub.status.idle": "2022-11-22T23:30:35.975427Z",
     "shell.execute_reply": "2022-11-22T23:30:35.974156Z"
    },
    "id": "pgcq-jhquKPT",
    "outputId": "24100084-3f2b-4afd-b3a5-309322bddfc4",
    "papermill": {
     "duration": 0.056914,
     "end_time": "2022-11-22T23:30:35.978086",
     "exception": false,
     "start_time": "2022-11-22T23:30:35.921172",
     "status": "completed"
    },
    "tags": []
   },
   "outputs": [
    {
     "data": {
      "text/plain": [
       "tweet_id                        14485\n",
       "airline_sentiment                   3\n",
       "airline_sentiment_confidence     1023\n",
       "negativereason                     10\n",
       "negativereason_confidence        1410\n",
       "airline                             6\n",
       "airline_sentiment_gold              3\n",
       "name                             7701\n",
       "negativereason_gold                13\n",
       "retweet_count                      18\n",
       "text                            14427\n",
       "tweet_coord                       832\n",
       "tweet_created                   14247\n",
       "tweet_location                   3081\n",
       "user_timezone                      85\n",
       "dtype: int64"
      ]
     },
     "execution_count": 8,
     "metadata": {},
     "output_type": "execute_result"
    }
   ],
   "source": [
    "#checking unique values \n",
    "data.nunique()"
   ]
  },
  {
   "cell_type": "code",
   "execution_count": 9,
   "id": "1b968cb8",
   "metadata": {
    "execution": {
     "iopub.execute_input": "2022-11-22T23:30:36.019700Z",
     "iopub.status.busy": "2022-11-22T23:30:36.019264Z",
     "iopub.status.idle": "2022-11-22T23:30:36.039602Z",
     "shell.execute_reply": "2022-11-22T23:30:36.038196Z"
    },
    "id": "VuKJ_u2cufiX",
    "outputId": "7c0c3333-d81c-4ca9-982a-1d8ec31d4c4d",
    "papermill": {
     "duration": 0.044239,
     "end_time": "2022-11-22T23:30:36.042161",
     "exception": false,
     "start_time": "2022-11-22T23:30:35.997922",
     "status": "completed"
    },
    "tags": []
   },
   "outputs": [
    {
     "data": {
      "text/plain": [
       "tweet_id                            0\n",
       "airline_sentiment                   0\n",
       "airline_sentiment_confidence        0\n",
       "negativereason                   5462\n",
       "negativereason_confidence        4118\n",
       "airline                             0\n",
       "airline_sentiment_gold          14600\n",
       "name                                0\n",
       "negativereason_gold             14608\n",
       "retweet_count                       0\n",
       "text                                0\n",
       "tweet_coord                     13621\n",
       "tweet_created                       0\n",
       "tweet_location                   4733\n",
       "user_timezone                    4820\n",
       "dtype: int64"
      ]
     },
     "execution_count": 9,
     "metadata": {},
     "output_type": "execute_result"
    }
   ],
   "source": [
    "#checking null values in our data\n",
    "data.isnull().sum()"
   ]
  },
  {
   "attachments": {},
   "cell_type": "markdown",
   "id": "488027a5",
   "metadata": {
    "id": "iTTDQvM3v7R8",
    "papermill": {
     "duration": 0.018602,
     "end_time": "2022-11-22T23:30:36.079524",
     "exception": false,
     "start_time": "2022-11-22T23:30:36.060922",
     "status": "completed"
    },
    "tags": []
   },
   "source": [
    "# **Preprocessing on data**"
   ]
  },
  {
   "attachments": {},
   "cell_type": "markdown",
   "id": "054b213b",
   "metadata": {
    "id": "wkQmnNagwGQR",
    "papermill": {
     "duration": 0.018075,
     "end_time": "2022-11-22T23:30:36.116008",
     "exception": false,
     "start_time": "2022-11-22T23:30:36.097933",
     "status": "completed"
    },
    "tags": []
   },
   "source": [
    "tweet_created column got the date recorts and showing type is object we have to change it of date time format"
   ]
  },
  {
   "cell_type": "code",
   "execution_count": 10,
   "id": "0c961ae7",
   "metadata": {
    "execution": {
     "iopub.execute_input": "2022-11-22T23:30:36.158247Z",
     "iopub.status.busy": "2022-11-22T23:30:36.157828Z",
     "iopub.status.idle": "2022-11-22T23:30:36.253394Z",
     "shell.execute_reply": "2022-11-22T23:30:36.252434Z"
    },
    "id": "-BcWc6xUvFq5",
    "papermill": {
     "duration": 0.119388,
     "end_time": "2022-11-22T23:30:36.255976",
     "exception": false,
     "start_time": "2022-11-22T23:30:36.136588",
     "status": "completed"
    },
    "tags": []
   },
   "outputs": [],
   "source": [
    "data['tweet_created'] = pd.to_datetime(data['tweet_created']).dt.date"
   ]
  },
  {
   "cell_type": "code",
   "execution_count": 11,
   "id": "c95549c5",
   "metadata": {
    "execution": {
     "iopub.execute_input": "2022-11-22T23:30:36.295027Z",
     "iopub.status.busy": "2022-11-22T23:30:36.293977Z",
     "iopub.status.idle": "2022-11-22T23:30:36.305809Z",
     "shell.execute_reply": "2022-11-22T23:30:36.304268Z"
    },
    "id": "_bXJqLGGy4mT",
    "papermill": {
     "duration": 0.03447,
     "end_time": "2022-11-22T23:30:36.308982",
     "exception": false,
     "start_time": "2022-11-22T23:30:36.274512",
     "status": "completed"
    },
    "tags": []
   },
   "outputs": [],
   "source": [
    "data['tweet_created'] = pd.to_datetime(data['tweet_created'])"
   ]
  },
  {
   "cell_type": "code",
   "execution_count": 12,
   "id": "aa882299",
   "metadata": {
    "execution": {
     "iopub.execute_input": "2022-11-22T23:30:36.348412Z",
     "iopub.status.busy": "2022-11-22T23:30:36.347619Z",
     "iopub.status.idle": "2022-11-22T23:30:36.369306Z",
     "shell.execute_reply": "2022-11-22T23:30:36.367872Z"
    },
    "id": "C4WmcHVixDhk",
    "outputId": "130983ea-0c7d-411b-b4c3-1eb93bbd4170",
    "papermill": {
     "duration": 0.043681,
     "end_time": "2022-11-22T23:30:36.371792",
     "exception": false,
     "start_time": "2022-11-22T23:30:36.328111",
     "status": "completed"
    },
    "tags": []
   },
   "outputs": [
    {
     "name": "stdout",
     "output_type": "stream",
     "text": [
      "<class 'pandas.core.frame.DataFrame'>\n",
      "RangeIndex: 14640 entries, 0 to 14639\n",
      "Data columns (total 15 columns):\n",
      " #   Column                        Non-Null Count  Dtype         \n",
      "---  ------                        --------------  -----         \n",
      " 0   tweet_id                      14640 non-null  int64         \n",
      " 1   airline_sentiment             14640 non-null  object        \n",
      " 2   airline_sentiment_confidence  14640 non-null  float64       \n",
      " 3   negativereason                9178 non-null   object        \n",
      " 4   negativereason_confidence     10522 non-null  float64       \n",
      " 5   airline                       14640 non-null  object        \n",
      " 6   airline_sentiment_gold        40 non-null     object        \n",
      " 7   name                          14640 non-null  object        \n",
      " 8   negativereason_gold           32 non-null     object        \n",
      " 9   retweet_count                 14640 non-null  int64         \n",
      " 10  text                          14640 non-null  object        \n",
      " 11  tweet_coord                   1019 non-null   object        \n",
      " 12  tweet_created                 14640 non-null  datetime64[ns]\n",
      " 13  tweet_location                9907 non-null   object        \n",
      " 14  user_timezone                 9820 non-null   object        \n",
      "dtypes: datetime64[ns](1), float64(2), int64(2), object(10)\n",
      "memory usage: 1.7+ MB\n"
     ]
    }
   ],
   "source": [
    "data.info()"
   ]
  },
  {
   "cell_type": "code",
   "execution_count": 13,
   "id": "617df94a",
   "metadata": {
    "execution": {
     "iopub.execute_input": "2022-11-22T23:30:36.411424Z",
     "iopub.status.busy": "2022-11-22T23:30:36.410721Z",
     "iopub.status.idle": "2022-11-22T23:30:36.432251Z",
     "shell.execute_reply": "2022-11-22T23:30:36.430986Z"
    },
    "id": "Iu3o-YqqxFdc",
    "outputId": "ad9987d5-1996-43be-fa09-7e53dd00d809",
    "papermill": {
     "duration": 0.044167,
     "end_time": "2022-11-22T23:30:36.434632",
     "exception": false,
     "start_time": "2022-11-22T23:30:36.390465",
     "status": "completed"
    },
    "tags": []
   },
   "outputs": [
    {
     "data": {
      "text/html": [
       "<div>\n",
       "<style scoped>\n",
       "    .dataframe tbody tr th:only-of-type {\n",
       "        vertical-align: middle;\n",
       "    }\n",
       "\n",
       "    .dataframe tbody tr th {\n",
       "        vertical-align: top;\n",
       "    }\n",
       "\n",
       "    .dataframe thead th {\n",
       "        text-align: right;\n",
       "    }\n",
       "</style>\n",
       "<table border=\"1\" class=\"dataframe\">\n",
       "  <thead>\n",
       "    <tr style=\"text-align: right;\">\n",
       "      <th></th>\n",
       "      <th>tweet_id</th>\n",
       "      <th>airline_sentiment</th>\n",
       "      <th>airline_sentiment_confidence</th>\n",
       "      <th>negativereason</th>\n",
       "      <th>negativereason_confidence</th>\n",
       "      <th>airline</th>\n",
       "      <th>airline_sentiment_gold</th>\n",
       "      <th>name</th>\n",
       "      <th>negativereason_gold</th>\n",
       "      <th>retweet_count</th>\n",
       "      <th>text</th>\n",
       "      <th>tweet_coord</th>\n",
       "      <th>tweet_created</th>\n",
       "      <th>tweet_location</th>\n",
       "      <th>user_timezone</th>\n",
       "    </tr>\n",
       "  </thead>\n",
       "  <tbody>\n",
       "    <tr>\n",
       "      <th>0</th>\n",
       "      <td>570306133677760513</td>\n",
       "      <td>neutral</td>\n",
       "      <td>1.0000</td>\n",
       "      <td>NaN</td>\n",
       "      <td>NaN</td>\n",
       "      <td>Virgin America</td>\n",
       "      <td>NaN</td>\n",
       "      <td>cairdin</td>\n",
       "      <td>NaN</td>\n",
       "      <td>0</td>\n",
       "      <td>@VirginAmerica What @dhepburn said.</td>\n",
       "      <td>NaN</td>\n",
       "      <td>2015-02-24</td>\n",
       "      <td>NaN</td>\n",
       "      <td>Eastern Time (US &amp; Canada)</td>\n",
       "    </tr>\n",
       "    <tr>\n",
       "      <th>1</th>\n",
       "      <td>570301130888122368</td>\n",
       "      <td>positive</td>\n",
       "      <td>0.3486</td>\n",
       "      <td>NaN</td>\n",
       "      <td>0.0000</td>\n",
       "      <td>Virgin America</td>\n",
       "      <td>NaN</td>\n",
       "      <td>jnardino</td>\n",
       "      <td>NaN</td>\n",
       "      <td>0</td>\n",
       "      <td>@VirginAmerica plus you've added commercials t...</td>\n",
       "      <td>NaN</td>\n",
       "      <td>2015-02-24</td>\n",
       "      <td>NaN</td>\n",
       "      <td>Pacific Time (US &amp; Canada)</td>\n",
       "    </tr>\n",
       "    <tr>\n",
       "      <th>2</th>\n",
       "      <td>570301083672813571</td>\n",
       "      <td>neutral</td>\n",
       "      <td>0.6837</td>\n",
       "      <td>NaN</td>\n",
       "      <td>NaN</td>\n",
       "      <td>Virgin America</td>\n",
       "      <td>NaN</td>\n",
       "      <td>yvonnalynn</td>\n",
       "      <td>NaN</td>\n",
       "      <td>0</td>\n",
       "      <td>@VirginAmerica I didn't today... Must mean I n...</td>\n",
       "      <td>NaN</td>\n",
       "      <td>2015-02-24</td>\n",
       "      <td>Lets Play</td>\n",
       "      <td>Central Time (US &amp; Canada)</td>\n",
       "    </tr>\n",
       "    <tr>\n",
       "      <th>3</th>\n",
       "      <td>570301031407624196</td>\n",
       "      <td>negative</td>\n",
       "      <td>1.0000</td>\n",
       "      <td>Bad Flight</td>\n",
       "      <td>0.7033</td>\n",
       "      <td>Virgin America</td>\n",
       "      <td>NaN</td>\n",
       "      <td>jnardino</td>\n",
       "      <td>NaN</td>\n",
       "      <td>0</td>\n",
       "      <td>@VirginAmerica it's really aggressive to blast...</td>\n",
       "      <td>NaN</td>\n",
       "      <td>2015-02-24</td>\n",
       "      <td>NaN</td>\n",
       "      <td>Pacific Time (US &amp; Canada)</td>\n",
       "    </tr>\n",
       "    <tr>\n",
       "      <th>4</th>\n",
       "      <td>570300817074462722</td>\n",
       "      <td>negative</td>\n",
       "      <td>1.0000</td>\n",
       "      <td>Can't Tell</td>\n",
       "      <td>1.0000</td>\n",
       "      <td>Virgin America</td>\n",
       "      <td>NaN</td>\n",
       "      <td>jnardino</td>\n",
       "      <td>NaN</td>\n",
       "      <td>0</td>\n",
       "      <td>@VirginAmerica and it's a really big bad thing...</td>\n",
       "      <td>NaN</td>\n",
       "      <td>2015-02-24</td>\n",
       "      <td>NaN</td>\n",
       "      <td>Pacific Time (US &amp; Canada)</td>\n",
       "    </tr>\n",
       "  </tbody>\n",
       "</table>\n",
       "</div>"
      ],
      "text/plain": [
       "             tweet_id airline_sentiment  airline_sentiment_confidence  \\\n",
       "0  570306133677760513           neutral                        1.0000   \n",
       "1  570301130888122368          positive                        0.3486   \n",
       "2  570301083672813571           neutral                        0.6837   \n",
       "3  570301031407624196          negative                        1.0000   \n",
       "4  570300817074462722          negative                        1.0000   \n",
       "\n",
       "  negativereason  negativereason_confidence         airline  \\\n",
       "0            NaN                        NaN  Virgin America   \n",
       "1            NaN                     0.0000  Virgin America   \n",
       "2            NaN                        NaN  Virgin America   \n",
       "3     Bad Flight                     0.7033  Virgin America   \n",
       "4     Can't Tell                     1.0000  Virgin America   \n",
       "\n",
       "  airline_sentiment_gold        name negativereason_gold  retweet_count  \\\n",
       "0                    NaN     cairdin                 NaN              0   \n",
       "1                    NaN    jnardino                 NaN              0   \n",
       "2                    NaN  yvonnalynn                 NaN              0   \n",
       "3                    NaN    jnardino                 NaN              0   \n",
       "4                    NaN    jnardino                 NaN              0   \n",
       "\n",
       "                                                text tweet_coord  \\\n",
       "0                @VirginAmerica What @dhepburn said.         NaN   \n",
       "1  @VirginAmerica plus you've added commercials t...         NaN   \n",
       "2  @VirginAmerica I didn't today... Must mean I n...         NaN   \n",
       "3  @VirginAmerica it's really aggressive to blast...         NaN   \n",
       "4  @VirginAmerica and it's a really big bad thing...         NaN   \n",
       "\n",
       "  tweet_created tweet_location               user_timezone  \n",
       "0    2015-02-24            NaN  Eastern Time (US & Canada)  \n",
       "1    2015-02-24            NaN  Pacific Time (US & Canada)  \n",
       "2    2015-02-24      Lets Play  Central Time (US & Canada)  \n",
       "3    2015-02-24            NaN  Pacific Time (US & Canada)  \n",
       "4    2015-02-24            NaN  Pacific Time (US & Canada)  "
      ]
     },
     "execution_count": 13,
     "metadata": {},
     "output_type": "execute_result"
    }
   ],
   "source": [
    "data.head()"
   ]
  },
  {
   "cell_type": "code",
   "execution_count": 14,
   "id": "c99b9885",
   "metadata": {
    "execution": {
     "iopub.execute_input": "2022-11-22T23:30:36.475083Z",
     "iopub.status.busy": "2022-11-22T23:30:36.474392Z",
     "iopub.status.idle": "2022-11-22T23:30:36.482134Z",
     "shell.execute_reply": "2022-11-22T23:30:36.481072Z"
    },
    "id": "yf9UXXcJxL4Z",
    "outputId": "baf409f7-c372-483e-d6e6-c6e795f5f619",
    "papermill": {
     "duration": 0.03072,
     "end_time": "2022-11-22T23:30:36.484447",
     "exception": false,
     "start_time": "2022-11-22T23:30:36.453727",
     "status": "completed"
    },
    "tags": []
   },
   "outputs": [
    {
     "data": {
      "text/plain": [
       "Timestamp('2015-02-16 00:00:00')"
      ]
     },
     "execution_count": 14,
     "metadata": {},
     "output_type": "execute_result"
    }
   ],
   "source": [
    "data['tweet_created'].min()"
   ]
  },
  {
   "cell_type": "code",
   "execution_count": 15,
   "id": "b8c39502",
   "metadata": {
    "execution": {
     "iopub.execute_input": "2022-11-22T23:30:36.524108Z",
     "iopub.status.busy": "2022-11-22T23:30:36.523660Z",
     "iopub.status.idle": "2022-11-22T23:30:36.531582Z",
     "shell.execute_reply": "2022-11-22T23:30:36.530364Z"
    },
    "id": "0d17zq3XxbVr",
    "outputId": "45f472ae-ecd5-4307-8782-f803b3b4c561",
    "papermill": {
     "duration": 0.030559,
     "end_time": "2022-11-22T23:30:36.533789",
     "exception": false,
     "start_time": "2022-11-22T23:30:36.503230",
     "status": "completed"
    },
    "tags": []
   },
   "outputs": [
    {
     "data": {
      "text/plain": [
       "Timestamp('2015-02-24 00:00:00')"
      ]
     },
     "execution_count": 15,
     "metadata": {},
     "output_type": "execute_result"
    }
   ],
   "source": [
    "data['tweet_created'].max()"
   ]
  },
  {
   "attachments": {},
   "cell_type": "markdown",
   "id": "e224ed6f",
   "metadata": {
    "id": "LTR0nBypxsQz",
    "papermill": {
     "duration": 0.019158,
     "end_time": "2022-11-22T23:30:36.571905",
     "exception": false,
     "start_time": "2022-11-22T23:30:36.552747",
     "status": "completed"
    },
    "tags": []
   },
   "source": [
    "we have data from 16th feb 2015 to 25 feb 2015 mins we have data of 9 days."
   ]
  },
  {
   "cell_type": "code",
   "execution_count": 16,
   "id": "079cb06f",
   "metadata": {
    "execution": {
     "iopub.execute_input": "2022-11-22T23:30:36.612883Z",
     "iopub.status.busy": "2022-11-22T23:30:36.612208Z",
     "iopub.status.idle": "2022-11-22T23:30:36.619444Z",
     "shell.execute_reply": "2022-11-22T23:30:36.618406Z"
    },
    "id": "rKCkw51RxgjW",
    "outputId": "013f3a45-8ed2-4e97-d28d-b8a18bc6cac2",
    "papermill": {
     "duration": 0.030778,
     "end_time": "2022-11-22T23:30:36.621638",
     "exception": false,
     "start_time": "2022-11-22T23:30:36.590860",
     "status": "completed"
    },
    "tags": []
   },
   "outputs": [
    {
     "data": {
      "text/plain": [
       "9"
      ]
     },
     "execution_count": 16,
     "metadata": {},
     "output_type": "execute_result"
    }
   ],
   "source": [
    "#checking uniques values in tweet_created columns\n",
    "data['tweet_created'].nunique()"
   ]
  },
  {
   "attachments": {},
   "cell_type": "markdown",
   "id": "2a683687",
   "metadata": {
    "id": "-M-u6zr59tgU",
    "papermill": {
     "duration": 0.018765,
     "end_time": "2022-11-22T23:30:36.848689",
     "exception": false,
     "start_time": "2022-11-22T23:30:36.829924",
     "status": "completed"
    },
    "tags": []
   },
   "source": [
    "# **Treating with null values**"
   ]
  },
  {
   "cell_type": "code",
   "execution_count": 17,
   "id": "46e76818",
   "metadata": {
    "execution": {
     "iopub.execute_input": "2022-11-22T23:30:36.889717Z",
     "iopub.status.busy": "2022-11-22T23:30:36.888982Z",
     "iopub.status.idle": "2022-11-22T23:30:36.906369Z",
     "shell.execute_reply": "2022-11-22T23:30:36.905008Z"
    },
    "id": "joUDquqs2Rsn",
    "outputId": "84e54f21-197b-4cd4-933f-1a71708f55bf",
    "papermill": {
     "duration": 0.040999,
     "end_time": "2022-11-22T23:30:36.908996",
     "exception": false,
     "start_time": "2022-11-22T23:30:36.867997",
     "status": "completed"
    },
    "tags": []
   },
   "outputs": [
    {
     "data": {
      "text/plain": [
       "tweet_id                            0\n",
       "airline_sentiment                   0\n",
       "airline_sentiment_confidence        0\n",
       "negativereason                   5462\n",
       "negativereason_confidence        4118\n",
       "airline                             0\n",
       "airline_sentiment_gold          14600\n",
       "name                                0\n",
       "negativereason_gold             14608\n",
       "retweet_count                       0\n",
       "text                                0\n",
       "tweet_coord                     13621\n",
       "tweet_created                       0\n",
       "tweet_location                   4733\n",
       "user_timezone                    4820\n",
       "dtype: int64"
      ]
     },
     "execution_count": 17,
     "metadata": {},
     "output_type": "execute_result"
    }
   ],
   "source": [
    "data.isna().sum()"
   ]
  },
  {
   "cell_type": "code",
   "execution_count": 18,
   "id": "ff76d47e",
   "metadata": {
    "execution": {
     "iopub.execute_input": "2022-11-22T23:30:36.993656Z",
     "iopub.status.busy": "2022-11-22T23:30:36.992931Z",
     "iopub.status.idle": "2022-11-22T23:30:37.021440Z",
     "shell.execute_reply": "2022-11-22T23:30:37.020120Z"
    },
    "id": "7a58BVJI2Zll",
    "outputId": "995695e0-6e87-4f69-aa69-958b8b483b22",
    "papermill": {
     "duration": 0.055358,
     "end_time": "2022-11-22T23:30:37.024554",
     "exception": false,
     "start_time": "2022-11-22T23:30:36.969196",
     "status": "completed"
    },
    "tags": []
   },
   "outputs": [
    {
     "name": "stdout",
     "output_type": "stream",
     "text": [
      "Percentage null or na values in df\n"
     ]
    },
    {
     "data": {
      "text/plain": [
       "tweet_id                         0.00\n",
       "airline_sentiment                0.00\n",
       "airline_sentiment_confidence     0.00\n",
       "negativereason                  37.31\n",
       "negativereason_confidence       28.13\n",
       "airline                          0.00\n",
       "airline_sentiment_gold          99.73\n",
       "name                             0.00\n",
       "negativereason_gold             99.78\n",
       "retweet_count                    0.00\n",
       "text                             0.00\n",
       "tweet_coord                     93.04\n",
       "tweet_created                    0.00\n",
       "tweet_location                  32.33\n",
       "user_timezone                   32.92\n",
       "dtype: float64"
      ]
     },
     "execution_count": 18,
     "metadata": {},
     "output_type": "execute_result"
    }
   ],
   "source": [
    "print(\"Percentage null or na values in df\")\n",
    "((data.isnull() | data.isna()).sum() * 100 / data.index.size).round(2)"
   ]
  },
  {
   "attachments": {},
   "cell_type": "markdown",
   "id": "2305a323",
   "metadata": {
    "id": "stVZW6wr_6qi",
    "papermill": {
     "duration": 0.019205,
     "end_time": "2022-11-22T23:30:37.063610",
     "exception": false,
     "start_time": "2022-11-22T23:30:37.044405",
     "status": "completed"
    },
    "tags": []
   },
   "source": [
    "**airline_sentiment_gold, negativereason_gold** have more than 99% missing data And **tweet_coord** have nearly 93% missing data. It will be better to delete these columns as they will not provide any constructive information"
   ]
  },
  {
   "cell_type": "code",
   "execution_count": 19,
   "id": "969e016b",
   "metadata": {
    "execution": {
     "iopub.execute_input": "2022-11-22T23:30:37.105594Z",
     "iopub.status.busy": "2022-11-22T23:30:37.104926Z",
     "iopub.status.idle": "2022-11-22T23:30:37.124295Z",
     "shell.execute_reply": "2022-11-22T23:30:37.123080Z"
    },
    "id": "AcYVR9S0_y8x",
    "outputId": "4baf337a-cee0-4342-fde9-c7db844542be",
    "papermill": {
     "duration": 0.043207,
     "end_time": "2022-11-22T23:30:37.126676",
     "exception": false,
     "start_time": "2022-11-22T23:30:37.083469",
     "status": "completed"
    },
    "tags": []
   },
   "outputs": [
    {
     "data": {
      "text/html": [
       "<div>\n",
       "<style scoped>\n",
       "    .dataframe tbody tr th:only-of-type {\n",
       "        vertical-align: middle;\n",
       "    }\n",
       "\n",
       "    .dataframe tbody tr th {\n",
       "        vertical-align: top;\n",
       "    }\n",
       "\n",
       "    .dataframe thead th {\n",
       "        text-align: right;\n",
       "    }\n",
       "</style>\n",
       "<table border=\"1\" class=\"dataframe\">\n",
       "  <thead>\n",
       "    <tr style=\"text-align: right;\">\n",
       "      <th></th>\n",
       "      <th>tweet_id</th>\n",
       "      <th>airline_sentiment</th>\n",
       "      <th>airline_sentiment_confidence</th>\n",
       "      <th>negativereason</th>\n",
       "      <th>negativereason_confidence</th>\n",
       "      <th>airline</th>\n",
       "      <th>name</th>\n",
       "      <th>retweet_count</th>\n",
       "      <th>text</th>\n",
       "      <th>tweet_created</th>\n",
       "      <th>tweet_location</th>\n",
       "      <th>user_timezone</th>\n",
       "    </tr>\n",
       "  </thead>\n",
       "  <tbody>\n",
       "    <tr>\n",
       "      <th>0</th>\n",
       "      <td>570306133677760513</td>\n",
       "      <td>neutral</td>\n",
       "      <td>1.0000</td>\n",
       "      <td>NaN</td>\n",
       "      <td>NaN</td>\n",
       "      <td>Virgin America</td>\n",
       "      <td>cairdin</td>\n",
       "      <td>0</td>\n",
       "      <td>@VirginAmerica What @dhepburn said.</td>\n",
       "      <td>2015-02-24</td>\n",
       "      <td>NaN</td>\n",
       "      <td>Eastern Time (US &amp; Canada)</td>\n",
       "    </tr>\n",
       "    <tr>\n",
       "      <th>1</th>\n",
       "      <td>570301130888122368</td>\n",
       "      <td>positive</td>\n",
       "      <td>0.3486</td>\n",
       "      <td>NaN</td>\n",
       "      <td>0.0000</td>\n",
       "      <td>Virgin America</td>\n",
       "      <td>jnardino</td>\n",
       "      <td>0</td>\n",
       "      <td>@VirginAmerica plus you've added commercials t...</td>\n",
       "      <td>2015-02-24</td>\n",
       "      <td>NaN</td>\n",
       "      <td>Pacific Time (US &amp; Canada)</td>\n",
       "    </tr>\n",
       "    <tr>\n",
       "      <th>2</th>\n",
       "      <td>570301083672813571</td>\n",
       "      <td>neutral</td>\n",
       "      <td>0.6837</td>\n",
       "      <td>NaN</td>\n",
       "      <td>NaN</td>\n",
       "      <td>Virgin America</td>\n",
       "      <td>yvonnalynn</td>\n",
       "      <td>0</td>\n",
       "      <td>@VirginAmerica I didn't today... Must mean I n...</td>\n",
       "      <td>2015-02-24</td>\n",
       "      <td>Lets Play</td>\n",
       "      <td>Central Time (US &amp; Canada)</td>\n",
       "    </tr>\n",
       "    <tr>\n",
       "      <th>3</th>\n",
       "      <td>570301031407624196</td>\n",
       "      <td>negative</td>\n",
       "      <td>1.0000</td>\n",
       "      <td>Bad Flight</td>\n",
       "      <td>0.7033</td>\n",
       "      <td>Virgin America</td>\n",
       "      <td>jnardino</td>\n",
       "      <td>0</td>\n",
       "      <td>@VirginAmerica it's really aggressive to blast...</td>\n",
       "      <td>2015-02-24</td>\n",
       "      <td>NaN</td>\n",
       "      <td>Pacific Time (US &amp; Canada)</td>\n",
       "    </tr>\n",
       "    <tr>\n",
       "      <th>4</th>\n",
       "      <td>570300817074462722</td>\n",
       "      <td>negative</td>\n",
       "      <td>1.0000</td>\n",
       "      <td>Can't Tell</td>\n",
       "      <td>1.0000</td>\n",
       "      <td>Virgin America</td>\n",
       "      <td>jnardino</td>\n",
       "      <td>0</td>\n",
       "      <td>@VirginAmerica and it's a really big bad thing...</td>\n",
       "      <td>2015-02-24</td>\n",
       "      <td>NaN</td>\n",
       "      <td>Pacific Time (US &amp; Canada)</td>\n",
       "    </tr>\n",
       "  </tbody>\n",
       "</table>\n",
       "</div>"
      ],
      "text/plain": [
       "             tweet_id airline_sentiment  airline_sentiment_confidence  \\\n",
       "0  570306133677760513           neutral                        1.0000   \n",
       "1  570301130888122368          positive                        0.3486   \n",
       "2  570301083672813571           neutral                        0.6837   \n",
       "3  570301031407624196          negative                        1.0000   \n",
       "4  570300817074462722          negative                        1.0000   \n",
       "\n",
       "  negativereason  negativereason_confidence         airline        name  \\\n",
       "0            NaN                        NaN  Virgin America     cairdin   \n",
       "1            NaN                     0.0000  Virgin America    jnardino   \n",
       "2            NaN                        NaN  Virgin America  yvonnalynn   \n",
       "3     Bad Flight                     0.7033  Virgin America    jnardino   \n",
       "4     Can't Tell                     1.0000  Virgin America    jnardino   \n",
       "\n",
       "   retweet_count                                               text  \\\n",
       "0              0                @VirginAmerica What @dhepburn said.   \n",
       "1              0  @VirginAmerica plus you've added commercials t...   \n",
       "2              0  @VirginAmerica I didn't today... Must mean I n...   \n",
       "3              0  @VirginAmerica it's really aggressive to blast...   \n",
       "4              0  @VirginAmerica and it's a really big bad thing...   \n",
       "\n",
       "  tweet_created tweet_location               user_timezone  \n",
       "0    2015-02-24            NaN  Eastern Time (US & Canada)  \n",
       "1    2015-02-24            NaN  Pacific Time (US & Canada)  \n",
       "2    2015-02-24      Lets Play  Central Time (US & Canada)  \n",
       "3    2015-02-24            NaN  Pacific Time (US & Canada)  \n",
       "4    2015-02-24            NaN  Pacific Time (US & Canada)  "
      ]
     },
     "execution_count": 19,
     "metadata": {},
     "output_type": "execute_result"
    }
   ],
   "source": [
    "del data['tweet_coord']\n",
    "del data['airline_sentiment_gold']\n",
    "del data['negativereason_gold']\n",
    "data.head()"
   ]
  },
  {
   "cell_type": "code",
   "execution_count": 20,
   "id": "66afe501",
   "metadata": {},
   "outputs": [
    {
     "data": {
      "text/plain": [
       "negativereason\n",
       "Bad Flight                      580\n",
       "Can't Tell                     1190\n",
       "Cancelled Flight                847\n",
       "Customer Service Issue         2910\n",
       "Damaged Luggage                  74\n",
       "Flight Attendant Complaints     481\n",
       "Flight Booking Problems         529\n",
       "Late Flight                    1665\n",
       "Lost Luggage                    724\n",
       "longlines                       178\n",
       "dtype: int64"
      ]
     },
     "execution_count": 20,
     "metadata": {},
     "output_type": "execute_result"
    }
   ],
   "source": [
    "freq = data.groupby('negativereason').size()\n",
    "freq"
   ]
  },
  {
   "attachments": {},
   "cell_type": "markdown",
   "id": "1a5453ff",
   "metadata": {
    "id": "5n5ziM4GJlhX",
    "papermill": {
     "duration": 0.020328,
     "end_time": "2022-11-22T23:30:37.314815",
     "exception": false,
     "start_time": "2022-11-22T23:30:37.294487",
     "status": "completed"
    },
    "tags": []
   },
   "source": [
    "# **EDA**"
   ]
  },
  {
   "attachments": {},
   "cell_type": "markdown",
   "id": "fdc3c619",
   "metadata": {
    "id": "4TZAoB0FKiAn",
    "papermill": {
     "duration": 0.020137,
     "end_time": "2022-11-22T23:30:37.354999",
     "exception": false,
     "start_time": "2022-11-22T23:30:37.334862",
     "status": "completed"
    },
    "tags": []
   },
   "source": [
    "### **Count of Type of Sentiment**"
   ]
  },
  {
   "cell_type": "code",
   "execution_count": 21,
   "id": "c734889d",
   "metadata": {
    "execution": {
     "iopub.execute_input": "2022-11-22T23:30:37.397280Z",
     "iopub.status.busy": "2022-11-22T23:30:37.396607Z",
     "iopub.status.idle": "2022-11-22T23:30:37.593362Z",
     "shell.execute_reply": "2022-11-22T23:30:37.592127Z"
    },
    "id": "x7A2OUXsKiif",
    "outputId": "4194c7bb-33f0-4d49-d980-4e490bf32782",
    "papermill": {
     "duration": 0.221058,
     "end_time": "2022-11-22T23:30:37.596086",
     "exception": false,
     "start_time": "2022-11-22T23:30:37.375028",
     "status": "completed"
    },
    "tags": []
   },
   "outputs": [
    {
     "data": {
      "text/plain": [
       "Text(0.5, 1.0, 'Count of Type of Sentiment')"
      ]
     },
     "execution_count": 21,
     "metadata": {},
     "output_type": "execute_result"
    },
    {
     "data": {
      "image/png": "[encoded data removed]",
      "text/plain": [
       "<Figure size 1200x600 with 1 Axes>"
      ]
     },
     "metadata": {},
     "output_type": "display_data"
    }
   ],
   "source": [
    "counter = data.airline_sentiment.value_counts()\n",
    "index = [1,2,3]\n",
    "plt.figure(1,figsize=(12,6))\n",
    "plt.bar(index,counter,color=['green','red','blue'])\n",
    "plt.xticks(index,['negative','neutral','positive'],rotation=0)\n",
    "plt.xlabel('Sentiment Type')\n",
    "plt.ylabel('Sentiment Count')\n",
    "plt.title('Count of Type of Sentiment')"
   ]
  },
  {
   "attachments": {},
   "cell_type": "markdown",
   "id": "60053427",
   "metadata": {
    "id": "8iXmSTRqZy5q",
    "papermill": {
     "duration": 0.03635,
     "end_time": "2022-11-22T23:31:15.421738",
     "exception": false,
     "start_time": "2022-11-22T23:31:15.385388",
     "status": "completed"
    },
    "tags": []
   },
   "source": [
    "### **Droping the rows with neutral sentiments**"
   ]
  },
  {
   "cell_type": "code",
   "execution_count": 22,
   "id": "6b1e1598",
   "metadata": {
    "execution": {
     "iopub.execute_input": "2022-11-22T23:31:15.496539Z",
     "iopub.status.busy": "2022-11-22T23:31:15.496095Z",
     "iopub.status.idle": "2022-11-22T23:31:15.509212Z",
     "shell.execute_reply": "2022-11-22T23:31:15.507883Z"
    },
    "id": "toJnCjjwa85N",
    "papermill": {
     "duration": 0.054031,
     "end_time": "2022-11-22T23:31:15.512128",
     "exception": false,
     "start_time": "2022-11-22T23:31:15.458097",
     "status": "completed"
    },
    "tags": []
   },
   "outputs": [],
   "source": [
    "data.drop(data.loc[data['airline_sentiment']=='neutral'].index, inplace=True)"
   ]
  },
  {
   "attachments": {},
   "cell_type": "markdown",
   "id": "5462a930",
   "metadata": {
    "id": "E815CYR1cAMy",
    "papermill": {
     "duration": 0.034316,
     "end_time": "2022-11-22T23:31:15.582726",
     "exception": false,
     "start_time": "2022-11-22T23:31:15.548410",
     "status": "completed"
    },
    "tags": []
   },
   "source": [
    "## **Label encoding on airline_sentiment**"
   ]
  },
  {
   "cell_type": "code",
   "execution_count": 23,
   "id": "ae5f517e",
   "metadata": {
    "execution": {
     "iopub.execute_input": "2022-11-22T23:31:15.657228Z",
     "iopub.status.busy": "2022-11-22T23:31:15.656447Z",
     "iopub.status.idle": "2022-11-22T23:31:15.680145Z",
     "shell.execute_reply": "2022-11-22T23:31:15.679313Z"
    },
    "id": "QmefSE6ub2Xo",
    "outputId": "025836c9-33c6-45cf-977a-57091cb04be1",
    "papermill": {
     "duration": 0.063848,
     "end_time": "2022-11-22T23:31:15.682711",
     "exception": false,
     "start_time": "2022-11-22T23:31:15.618863",
     "status": "completed"
    },
    "tags": []
   },
   "outputs": [
    {
     "data": {
      "text/html": [
       "<div>\n",
       "<style scoped>\n",
       "    .dataframe tbody tr th:only-of-type {\n",
       "        vertical-align: middle;\n",
       "    }\n",
       "\n",
       "    .dataframe tbody tr th {\n",
       "        vertical-align: top;\n",
       "    }\n",
       "\n",
       "    .dataframe thead th {\n",
       "        text-align: right;\n",
       "    }\n",
       "</style>\n",
       "<table border=\"1\" class=\"dataframe\">\n",
       "  <thead>\n",
       "    <tr style=\"text-align: right;\">\n",
       "      <th></th>\n",
       "      <th>tweet_id</th>\n",
       "      <th>airline_sentiment</th>\n",
       "      <th>airline_sentiment_confidence</th>\n",
       "      <th>negativereason</th>\n",
       "      <th>negativereason_confidence</th>\n",
       "      <th>airline</th>\n",
       "      <th>name</th>\n",
       "      <th>retweet_count</th>\n",
       "      <th>text</th>\n",
       "      <th>tweet_created</th>\n",
       "      <th>tweet_location</th>\n",
       "      <th>user_timezone</th>\n",
       "      <th>airline_sentiment_encoded</th>\n",
       "    </tr>\n",
       "  </thead>\n",
       "  <tbody>\n",
       "    <tr>\n",
       "      <th>1</th>\n",
       "      <td>570301130888122368</td>\n",
       "      <td>positive</td>\n",
       "      <td>0.3486</td>\n",
       "      <td>NaN</td>\n",
       "      <td>0.0000</td>\n",
       "      <td>Virgin America</td>\n",
       "      <td>jnardino</td>\n",
       "      <td>0</td>\n",
       "      <td>@VirginAmerica plus you've added commercials t...</td>\n",
       "      <td>2015-02-24</td>\n",
       "      <td>NaN</td>\n",
       "      <td>Pacific Time (US &amp; Canada)</td>\n",
       "      <td>1</td>\n",
       "    </tr>\n",
       "    <tr>\n",
       "      <th>3</th>\n",
       "      <td>570301031407624196</td>\n",
       "      <td>negative</td>\n",
       "      <td>1.0000</td>\n",
       "      <td>Bad Flight</td>\n",
       "      <td>0.7033</td>\n",
       "      <td>Virgin America</td>\n",
       "      <td>jnardino</td>\n",
       "      <td>0</td>\n",
       "      <td>@VirginAmerica it's really aggressive to blast...</td>\n",
       "      <td>2015-02-24</td>\n",
       "      <td>NaN</td>\n",
       "      <td>Pacific Time (US &amp; Canada)</td>\n",
       "      <td>0</td>\n",
       "    </tr>\n",
       "    <tr>\n",
       "      <th>4</th>\n",
       "      <td>570300817074462722</td>\n",
       "      <td>negative</td>\n",
       "      <td>1.0000</td>\n",
       "      <td>Can't Tell</td>\n",
       "      <td>1.0000</td>\n",
       "      <td>Virgin America</td>\n",
       "      <td>jnardino</td>\n",
       "      <td>0</td>\n",
       "      <td>@VirginAmerica and it's a really big bad thing...</td>\n",
       "      <td>2015-02-24</td>\n",
       "      <td>NaN</td>\n",
       "      <td>Pacific Time (US &amp; Canada)</td>\n",
       "      <td>0</td>\n",
       "    </tr>\n",
       "    <tr>\n",
       "      <th>5</th>\n",
       "      <td>570300767074181121</td>\n",
       "      <td>negative</td>\n",
       "      <td>1.0000</td>\n",
       "      <td>Can't Tell</td>\n",
       "      <td>0.6842</td>\n",
       "      <td>Virgin America</td>\n",
       "      <td>jnardino</td>\n",
       "      <td>0</td>\n",
       "      <td>@VirginAmerica seriously would pay $30 a fligh...</td>\n",
       "      <td>2015-02-24</td>\n",
       "      <td>NaN</td>\n",
       "      <td>Pacific Time (US &amp; Canada)</td>\n",
       "      <td>0</td>\n",
       "    </tr>\n",
       "    <tr>\n",
       "      <th>6</th>\n",
       "      <td>570300616901320704</td>\n",
       "      <td>positive</td>\n",
       "      <td>0.6745</td>\n",
       "      <td>NaN</td>\n",
       "      <td>0.0000</td>\n",
       "      <td>Virgin America</td>\n",
       "      <td>cjmcginnis</td>\n",
       "      <td>0</td>\n",
       "      <td>@VirginAmerica yes, nearly every time I fly VX...</td>\n",
       "      <td>2015-02-24</td>\n",
       "      <td>San Francisco CA</td>\n",
       "      <td>Pacific Time (US &amp; Canada)</td>\n",
       "      <td>1</td>\n",
       "    </tr>\n",
       "  </tbody>\n",
       "</table>\n",
       "</div>"
      ],
      "text/plain": [
       "             tweet_id airline_sentiment  airline_sentiment_confidence  \\\n",
       "1  570301130888122368          positive                        0.3486   \n",
       "3  570301031407624196          negative                        1.0000   \n",
       "4  570300817074462722          negative                        1.0000   \n",
       "5  570300767074181121          negative                        1.0000   \n",
       "6  570300616901320704          positive                        0.6745   \n",
       "\n",
       "  negativereason  negativereason_confidence         airline        name  \\\n",
       "1            NaN                     0.0000  Virgin America    jnardino   \n",
       "3     Bad Flight                     0.7033  Virgin America    jnardino   \n",
       "4     Can't Tell                     1.0000  Virgin America    jnardino   \n",
       "5     Can't Tell                     0.6842  Virgin America    jnardino   \n",
       "6            NaN                     0.0000  Virgin America  cjmcginnis   \n",
       "\n",
       "   retweet_count                                               text  \\\n",
       "1              0  @VirginAmerica plus you've added commercials t...   \n",
       "3              0  @VirginAmerica it's really aggressive to blast...   \n",
       "4              0  @VirginAmerica and it's a really big bad thing...   \n",
       "5              0  @VirginAmerica seriously would pay $30 a fligh...   \n",
       "6              0  @VirginAmerica yes, nearly every time I fly VX...   \n",
       "\n",
       "  tweet_created    tweet_location               user_timezone  \\\n",
       "1    2015-02-24               NaN  Pacific Time (US & Canada)   \n",
       "3    2015-02-24               NaN  Pacific Time (US & Canada)   \n",
       "4    2015-02-24               NaN  Pacific Time (US & Canada)   \n",
       "5    2015-02-24               NaN  Pacific Time (US & Canada)   \n",
       "6    2015-02-24  San Francisco CA  Pacific Time (US & Canada)   \n",
       "\n",
       "   airline_sentiment_encoded  \n",
       "1                          1  \n",
       "3                          0  \n",
       "4                          0  \n",
       "5                          0  \n",
       "6                          1  "
      ]
     },
     "execution_count": 23,
     "metadata": {},
     "output_type": "execute_result"
    }
   ],
   "source": [
    "from sklearn.preprocessing import LabelEncoder\n",
    "\n",
    "le = LabelEncoder()\n",
    "le.fit(data['airline_sentiment'])\n",
    "\n",
    "data['airline_sentiment_encoded'] = le.transform(data['airline_sentiment'])\n",
    "data.head()"
   ]
  },
  {
   "attachments": {},
   "cell_type": "markdown",
   "id": "57038498",
   "metadata": {
    "id": "xW8yjSQ1WwNS",
    "papermill": {
     "duration": 0.03524,
     "end_time": "2022-11-22T23:31:18.109721",
     "exception": false,
     "start_time": "2022-11-22T23:31:18.074481",
     "status": "completed"
    },
    "tags": []
   },
   "source": [
    "# **Vectorization**"
   ]
  },
  {
   "cell_type": "code",
   "execution_count": 24,
   "id": "238528ff",
   "metadata": {
    "execution": {
     "iopub.execute_input": "2022-11-22T23:31:18.184274Z",
     "iopub.status.busy": "2022-11-22T23:31:18.183815Z",
     "iopub.status.idle": "2022-11-22T23:31:18.190564Z",
     "shell.execute_reply": "2022-11-22T23:31:18.189297Z"
    },
    "id": "BAbhoS5HWnJb",
    "outputId": "15518f77-2806-4391-d601-c1de175a77b0",
    "papermill": {
     "duration": 0.04681,
     "end_time": "2022-11-22T23:31:18.192972",
     "exception": false,
     "start_time": "2022-11-22T23:31:18.146162",
     "status": "completed"
    },
    "tags": []
   },
   "outputs": [
    {
     "name": "stdout",
     "output_type": "stream",
     "text": [
      "11541 11541\n"
     ]
    }
   ],
   "source": [
    "x = data.text\n",
    "y = data.airline_sentiment\n",
    "\n",
    "print(len(x), len(y))"
   ]
  },
  {
   "attachments": {},
   "cell_type": "markdown",
   "id": "b085a102",
   "metadata": {
    "id": "HnxSANA1Ssof",
    "papermill": {
     "duration": 0.035019,
     "end_time": "2022-11-22T23:31:18.263638",
     "exception": false,
     "start_time": "2022-11-22T23:31:18.228619",
     "status": "completed"
    },
    "tags": []
   },
   "source": [
    "### The data is split in the standard 80,20 ratio"
   ]
  },
  {
   "cell_type": "code",
   "execution_count": 25,
   "id": "e67d0c47",
   "metadata": {
    "execution": {
     "iopub.execute_input": "2022-11-22T23:31:18.335912Z",
     "iopub.status.busy": "2022-11-22T23:31:18.335145Z",
     "iopub.status.idle": "2022-11-22T23:31:18.343798Z",
     "shell.execute_reply": "2022-11-22T23:31:18.342918Z"
    },
    "id": "uzQrwwy7UEK_",
    "outputId": "410dbf4a-fe1d-40f0-f470-21e0058cde33",
    "papermill": {
     "duration": 0.047607,
     "end_time": "2022-11-22T23:31:18.346207",
     "exception": false,
     "start_time": "2022-11-22T23:31:18.298600",
     "status": "completed"
    },
    "tags": []
   },
   "outputs": [
    {
     "name": "stdout",
     "output_type": "stream",
     "text": [
      "8655 8655\n",
      "2886 2886\n"
     ]
    }
   ],
   "source": [
    "x_train, x_test, y_train, y_test = train_test_split(x, y, random_state=42)\n",
    "print(len(x_train), len(y_train))\n",
    "print(len(x_test), len(y_test))"
   ]
  },
  {
   "cell_type": "code",
   "execution_count": 26,
   "id": "e4c4a337",
   "metadata": {},
   "outputs": [
    {
     "data": {
      "text/html": [
       "<style>#sk-container-id-1 {color: black;background-color: white;}#sk-container-id-1 pre{padding: 0;}#sk-container-id-1 div.sk-toggleable {background-color: white;}#sk-container-id-1 label.sk-toggleable__label {cursor: pointer;display: block;width: 100%;margin-bottom: 0;padding: 0.3em;box-sizing: border-box;text-align: center;}#sk-container-id-1 label.sk-toggleable__label-arrow:before {content: \"▸\";float: left;margin-right: 0.25em;color: #696969;}#sk-container-id-1 label.sk-toggleable__label-arrow:hover:before {color: black;}#sk-container-id-1 div.sk-estimator:hover label.sk-toggleable__label-arrow:before {color: black;}#sk-container-id-1 div.sk-toggleable__content {max-height: 0;max-width: 0;overflow: hidden;text-align: left;background-color: #f0f8ff;}#sk-container-id-1 div.sk-toggleable__content pre {margin: 0.2em;color: black;border-radius: 0.25em;background-color: #f0f8ff;}#sk-container-id-1 input.sk-toggleable__control:checked~div.sk-toggleable__content {max-height: 200px;max-width: 100%;overflow: auto;}#sk-container-id-1 input.sk-toggleable__control:checked~label.sk-toggleable__label-arrow:before {content: \"▾\";}#sk-container-id-1 div.sk-estimator input.sk-toggleable__control:checked~label.sk-toggleable__label {background-color: #d4ebff;}#sk-container-id-1 div.sk-label input.sk-toggleable__control:checked~label.sk-toggleable__label {background-color: #d4ebff;}#sk-container-id-1 input.sk-hidden--visually {border: 0;clip: rect(1px 1px 1px 1px);clip: rect(1px, 1px, 1px, 1px);height: 1px;margin: -1px;overflow: hidden;padding: 0;position: absolute;width: 1px;}#sk-container-id-1 div.sk-estimator {font-family: monospace;background-color: #f0f8ff;border: 1px dotted black;border-radius: 0.25em;box-sizing: border-box;margin-bottom: 0.5em;}#sk-container-id-1 div.sk-estimator:hover {background-color: #d4ebff;}#sk-container-id-1 div.sk-parallel-item::after {content: \"\";width: 100%;border-bottom: 1px solid gray;flex-grow: 1;}#sk-container-id-1 div.sk-label:hover label.sk-toggleable__label {background-color: #d4ebff;}#sk-container-id-1 div.sk-serial::before {content: \"\";position: absolute;border-left: 1px solid gray;box-sizing: border-box;top: 0;bottom: 0;left: 50%;z-index: 0;}#sk-container-id-1 div.sk-serial {display: flex;flex-direction: column;align-items: center;background-color: white;padding-right: 0.2em;padding-left: 0.2em;position: relative;}#sk-container-id-1 div.sk-item {position: relative;z-index: 1;}#sk-container-id-1 div.sk-parallel {display: flex;align-items: stretch;justify-content: center;background-color: white;position: relative;}#sk-container-id-1 div.sk-item::before, #sk-container-id-1 div.sk-parallel-item::before {content: \"\";position: absolute;border-left: 1px solid gray;box-sizing: border-box;top: 0;bottom: 0;left: 50%;z-index: -1;}#sk-container-id-1 div.sk-parallel-item {display: flex;flex-direction: column;z-index: 1;position: relative;background-color: white;}#sk-container-id-1 div.sk-parallel-item:first-child::after {align-self: flex-end;width: 50%;}#sk-container-id-1 div.sk-parallel-item:last-child::after {align-self: flex-start;width: 50%;}#sk-container-id-1 div.sk-parallel-item:only-child::after {width: 0;}#sk-container-id-1 div.sk-dashed-wrapped {border: 1px dashed gray;margin: 0 0.4em 0.5em 0.4em;box-sizing: border-box;padding-bottom: 0.4em;background-color: white;}#sk-container-id-1 div.sk-label label {font-family: monospace;font-weight: bold;display: inline-block;line-height: 1.2em;}#sk-container-id-1 div.sk-label-container {text-align: center;}#sk-container-id-1 div.sk-container {/* jupyter's `normalize.less` sets `[hidden] { display: none; }` but bootstrap.min.css set `[hidden] { display: none !important; }` so we also need the `!important` here to be able to override the default hidden behavior on the sphinx rendered scikit-learn.org. See: https://github.com/scikit-learn/scikit-learn/issues/21755 */display: inline-block !important;position: relative;}#sk-container-id-1 div.sk-text-repr-fallback {display: none;}</style><div id=\"sk-container-id-1\" class=\"sk-top-container\"><div class=\"sk-text-repr-fallback\"><pre>CountVectorizer()</pre><b>In a Jupyter environment, please rerun this cell to show the HTML representation or trust the notebook. <br />On GitHub, the HTML representation is unable to render, please try loading this page with nbviewer.org.</b></div><div class=\"sk-container\" hidden><div class=\"sk-item\"><div class=\"sk-estimator sk-toggleable\"><input class=\"sk-toggleable__control sk-hidden--visually\" id=\"sk-estimator-id-1\" type=\"checkbox\" checked><label for=\"sk-estimator-id-1\" class=\"sk-toggleable__label sk-toggleable__label-arrow\">CountVectorizer</label><div class=\"sk-toggleable__content\"><pre>CountVectorizer()</pre></div></div></div></div></div>"
      ],
      "text/plain": [
       "CountVectorizer()"
      ]
     },
     "execution_count": 26,
     "metadata": {},
     "output_type": "execute_result"
    }
   ],
   "source": [
    "from sklearn.feature_extraction.text import CountVectorizer\n",
    "\n",
    "# instantiate the vectorizer\n",
    "vect = CountVectorizer()\n",
    "vect.fit(x_train)"
   ]
  },
  {
   "cell_type": "code",
   "execution_count": 27,
   "id": "34180a44",
   "metadata": {},
   "outputs": [],
   "source": [
    "# Use the trained to create a document-term matrix from train and test sets\n",
    "x_train_dtm = vect.transform(x_train)\n",
    "x_test_dtm = vect.transform(x_test)"
   ]
  },
  {
   "attachments": {},
   "cell_type": "markdown",
   "id": "61c23587",
   "metadata": {
    "id": "PfblobCSYP01",
    "papermill": {
     "duration": 0.036675,
     "end_time": "2022-11-22T23:31:18.924431",
     "exception": false,
     "start_time": "2022-11-22T23:31:18.887756",
     "status": "completed"
    },
    "tags": []
   },
   "source": [
    "# **Model Building**"
   ]
  },
  {
   "cell_type": "code",
   "execution_count": 28,
   "id": "e559b93f",
   "metadata": {
    "execution": {
     "iopub.execute_input": "2022-11-22T23:31:18.998286Z",
     "iopub.status.busy": "2022-11-22T23:31:18.997841Z",
     "iopub.status.idle": "2022-11-22T23:31:23.414857Z",
     "shell.execute_reply": "2022-11-22T23:31:23.413628Z"
    },
    "id": "M9-7O1udXmq0",
    "papermill": {
     "duration": 4.457453,
     "end_time": "2022-11-22T23:31:23.417628",
     "exception": false,
     "start_time": "2022-11-22T23:31:18.960175",
     "status": "completed"
    },
    "tags": []
   },
   "outputs": [],
   "source": [
    "#training SVM model with linear kernel\n",
    "#Support Vector Classification-wrapper around SVM\n",
    "from sklearn.svm import SVC\n",
    "model = SVC(kernel='linear', random_state = 10)\n",
    "model.fit(x_train_dtm, y_train)\n",
    "#predicting output for test data\n",
    "pred = model.predict(x_test_dtm)"
   ]
  },
  {
   "cell_type": "code",
   "execution_count": 30,
   "id": "b17c1d98",
   "metadata": {
    "execution": {
     "iopub.execute_input": "2022-11-22T23:31:23.492590Z",
     "iopub.status.busy": "2022-11-22T23:31:23.491769Z",
     "iopub.status.idle": "2022-11-22T23:31:23.505517Z",
     "shell.execute_reply": "2022-11-22T23:31:23.503978Z"
    },
    "id": "QNQxYTxAeWXd",
    "outputId": "c9dda2b2-2471-4b3d-d5c7-e30d137342db",
    "papermill": {
     "duration": 0.055098,
     "end_time": "2022-11-22T23:31:23.508583",
     "exception": false,
     "start_time": "2022-11-22T23:31:23.453485",
     "status": "completed"
    },
    "tags": []
   },
   "outputs": [
    {
     "name": "stdout",
     "output_type": "stream",
     "text": [
      "Accuracy score of Support Vector Machine:  0.9158004158004158\n"
     ]
    }
   ],
   "source": [
    "#accuracy score\n",
    "print(\"Accuracy score of Support Vector Machine: \",accuracy_score(y_test,pred))\n"
   ]
  },
  {
   "cell_type": "code",
   "execution_count": 31,
   "id": "5d0fa6a0",
   "metadata": {
    "execution": {
     "iopub.execute_input": "2022-11-22T23:31:23.581839Z",
     "iopub.status.busy": "2022-11-22T23:31:23.581412Z",
     "iopub.status.idle": "2022-11-22T23:31:23.602619Z",
     "shell.execute_reply": "2022-11-22T23:31:23.601308Z"
    },
    "id": "AWIC_yglZHiq",
    "outputId": "67d6ed86-c790-4747-beaf-f7e6d69caf46",
    "papermill": {
     "duration": 0.060927,
     "end_time": "2022-11-22T23:31:23.605303",
     "exception": false,
     "start_time": "2022-11-22T23:31:23.544376",
     "status": "completed"
    },
    "tags": []
   },
   "outputs": [
    {
     "data": {
      "text/plain": [
       "array([[2202,  121],\n",
       "       [ 122,  441]], dtype=int64)"
      ]
     },
     "execution_count": 31,
     "metadata": {},
     "output_type": "execute_result"
    }
   ],
   "source": [
    "#building confusion matrix\n",
    "cm = confusion_matrix(y_test, pred)\n",
    "cm"
   ]
  },
  {
   "cell_type": "code",
   "execution_count": 32,
   "id": "946c964b",
   "metadata": {
    "execution": {
     "iopub.execute_input": "2022-11-22T23:31:23.678938Z",
     "iopub.status.busy": "2022-11-22T23:31:23.678522Z",
     "iopub.status.idle": "2022-11-22T23:31:23.873104Z",
     "shell.execute_reply": "2022-11-22T23:31:23.872068Z"
    },
    "id": "oqfXofeIcf5H",
    "outputId": "2fdf39cf-f08c-462b-9bdf-904b4042eec6",
    "papermill": {
     "duration": 0.234152,
     "end_time": "2022-11-22T23:31:23.875862",
     "exception": false,
     "start_time": "2022-11-22T23:31:23.641710",
     "status": "completed"
    },
    "tags": []
   },
   "outputs": [
    {
     "data": {
      "image/png": "[encoded data removed]",
      "text/plain": [
       "<Figure size 1000x600 with 1 Axes>"
      ]
     },
     "metadata": {},
     "output_type": "display_data"
    }
   ],
   "source": [
    "#defining the size of the canvas\n",
    "plt.rcParams['figure.figsize'] = [10,6]\n",
    "#confusion matrix to DataFrame\n",
    "conf_matrix = pd.DataFrame(data = cm,columns = ['Predicted:Negative','Predicted:Positive',], index = ['Actual:Negative','Actual:Positive',])\n",
    "#plotting the confusion matrix\n",
    "sns.heatmap(conf_matrix, annot = True, fmt = 'd', cmap = 'Paired', cbar = False,linewidths = 0.1, annot_kws = {'size':25})\n",
    "plt.xticks(fontsize = 20)\n",
    "plt.yticks(fontsize = 20)\n",
    "plt.title(\"Support Vector Classifier\")\n",
    "plt.show()\n"
   ]
  },
  {
   "cell_type": "code",
   "execution_count": 33,
   "id": "11249598",
   "metadata": {},
   "outputs": [],
   "source": [
    "#training Random forest \n",
    "from sklearn.ensemble import RandomForestClassifier\n",
    "rf = RandomForestClassifier()\n",
    "rf.fit(x_train_dtm, y_train)\n",
    "#predicting output for test data\n",
    "pred = rf.predict(x_test_dtm)"
   ]
  },
  {
   "cell_type": "code",
   "execution_count": 34,
   "id": "ef037066",
   "metadata": {},
   "outputs": [
    {
     "name": "stdout",
     "output_type": "stream",
     "text": [
      "Accuracy score of Random Forest Classifier:  0.8988218988218988\n"
     ]
    }
   ],
   "source": [
    "#accuracy score\n",
    "print(\"Accuracy score of Random Forest Classifier: \",accuracy_score(y_test,pred))"
   ]
  },
  {
   "cell_type": "code",
   "execution_count": 35,
   "id": "6211ab47",
   "metadata": {},
   "outputs": [
    {
     "data": {
      "text/plain": [
       "array([[2295,   28],\n",
       "       [ 264,  299]], dtype=int64)"
      ]
     },
     "execution_count": 35,
     "metadata": {},
     "output_type": "execute_result"
    }
   ],
   "source": [
    "#building confusion matrix\n",
    "cm = confusion_matrix(y_test, pred)\n",
    "cm"
   ]
  },
  {
   "cell_type": "code",
   "execution_count": 36,
   "id": "6e720f2d",
   "metadata": {},
   "outputs": [
    {
     "data": {
      "image/png": "[encoded data removed]",
      "text/plain": [
       "<Figure size 1000x600 with 1 Axes>"
      ]
     },
     "metadata": {},
     "output_type": "display_data"
    }
   ],
   "source": [
    "#defining the size of the canvas\n",
    "plt.rcParams['figure.figsize'] = [10,6]\n",
    "#confusion matrix to DataFrame\n",
    "conf_matrix = pd.DataFrame(data = cm,columns = ['Predicted:Negative','Predicted:Positive',], index = ['Actual:Negative','Actual:Positive',])\n",
    "#plotting the confusion matrix\n",
    "sns.heatmap(conf_matrix, annot = True, fmt = 'd', cmap = 'Paired', cbar = False,linewidths = 0.1, annot_kws = {'size':25})\n",
    "plt.xticks(fontsize = 20)\n",
    "plt.yticks(fontsize = 20)\n",
    "plt.title(\"Random Forest Classifier\")\n",
    "plt.show()"
   ]
  }
 ],
 "metadata": {
  "kernelspec": {
   "display_name": "Python 3",
   "language": "python",
   "name": "python3"
  },
  "language_info": {
   "codemirror_mode": {
    "name": "ipython",
    "version": 3
   },
   "file_extension": ".py",
   "mimetype": "text/x-python",
   "name": "python",
   "nbconvert_exporter": "python",
   "pygments_lexer": "ipython3",
   "version": "3.10.5"
  },
  "papermill": {
   "default_parameters": {},
   "duration": 61.85208,
   "end_time": "2022-11-22T23:31:25.258969",
   "environment_variables": {},
   "exception": null,
   "input_path": "__notebook__.ipynb",
   "output_path": "__notebook__.ipynb",
   "parameters": {},
   "start_time": "2022-11-22T23:30:23.406889",
   "version": "2.3.4"
  },
  "vscode": {
   "interpreter": {
    "hash": "433d2257030b4a1b42ab7fb09bc6fe3e8cfbc62f0afb33da105ecdfed65e06aa"
   }
  }
 },
 "nbformat": 4,
 "nbformat_minor": 5
}
